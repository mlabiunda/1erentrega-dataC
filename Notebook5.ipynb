{
  "nbformat": 4,
  "nbformat_minor": 0,
  "metadata": {
    "kernelspec": {
      "display_name": "Python 3",
      "language": "python",
      "name": "python3"
    },
    "language_info": {
      "codemirror_mode": {
        "name": "ipython",
        "version": 3
      },
      "file_extension": ".py",
      "mimetype": "text/x-python",
      "name": "python",
      "nbconvert_exporter": "python",
      "pygments_lexer": "ipython3",
      "version": "3.7.3"
    },
    "colab": {
      "provenance": [],
      "include_colab_link": true
    }
  },
  "cells": [
    {
      "cell_type": "markdown",
      "metadata": {
        "id": "view-in-github",
        "colab_type": "text"
      },
      "source": [
        "<a href=\"https://colab.research.google.com/github/mlabiunda/1erentrega-dataC/blob/main/Notebook5.ipynb\" target=\"_parent\"><img src=\"https://colab.research.google.com/assets/colab-badge.svg\" alt=\"Open In Colab\"/></a>"
      ]
    },
    {
      "cell_type": "markdown",
      "metadata": {
        "id": "Gp2WddtV9IwG"
      },
      "source": [
        "# Programa Ingenias+ Data Science"
      ]
    },
    {
      "cell_type": "markdown",
      "metadata": {
        "id": "X03mviQS9IyL"
      },
      "source": [
        "# Ejercicios\n",
        "\n",
        "1. Crear un arreglo de ceros de longitud 12\n",
        "2. Crear un arreglo de longitud 10 con ceros en todas sus posiciones y un 10 en la posición número 5\n",
        "3. Crear un arreglo que tenga los números del 10 al 49\n",
        "4. Crear una arreglo 2d de shape (3, 3) que tenga los números del 0 al 8\n",
        "5. Crear un arreglo de números aleatorios de longitud 100 y obtener su media y varianza\n",
        "6. Calcular la media de un arreglo usando np.sum\n",
        "7. Calcular la varianza de un arreglo usando np.sum y np.mean\n",
        "8. Crear un array de números aleatorios usando np.random.randn.\n"
      ]
    },
    {
      "cell_type": "code",
      "source": [
        "#Importar numpy\n",
        "import numpy as np"
      ],
      "metadata": {
        "id": "_Ml6ucHAe0dr"
      },
      "execution_count": 1,
      "outputs": []
    },
    {
      "cell_type": "code",
      "source": [
        "#Ejercicio 1: Crear un arreglo de ceros de longitud 12\n",
        "array_ceros=np.zeros(12)\n",
        "print(array_ceros)\n",
        "len (array_ceros)\n"
      ],
      "metadata": {
        "id": "bDHUnDG-e0TB",
        "colab": {
          "base_uri": "https://localhost:8080/"
        },
        "outputId": "76995844-a46a-4921-a34d-925a6cf80b1f"
      },
      "execution_count": 3,
      "outputs": [
        {
          "output_type": "stream",
          "name": "stdout",
          "text": [
            "[0. 0. 0. 0. 0. 0. 0. 0. 0. 0. 0. 0.]\n"
          ]
        },
        {
          "output_type": "execute_result",
          "data": {
            "text/plain": [
              "12"
            ]
          },
          "metadata": {},
          "execution_count": 3
        }
      ]
    },
    {
      "cell_type": "code",
      "source": [
        "#prueba: arreglo de unos de longitud 5\n",
        "array_unos=np.ones(5)\n",
        "print(array_unos)\n"
      ],
      "metadata": {
        "colab": {
          "base_uri": "https://localhost:8080/"
        },
        "id": "nLlHeu0Obg5t",
        "outputId": "36240b8e-fedd-4206-aa65-956e020466b7"
      },
      "execution_count": 5,
      "outputs": [
        {
          "output_type": "stream",
          "name": "stdout",
          "text": [
            "[1. 1. 1. 1. 1.]\n"
          ]
        }
      ]
    },
    {
      "cell_type": "code",
      "source": [
        "#Ejercicio 2: Crear un arreglo de longitud 10 con ceros en todas sus posiciones y un 10 en la posición número 5\n",
        "array_diez=np.zeros(10)\n",
        "array_diez[5]=10\n",
        "print(array_diez)"
      ],
      "metadata": {
        "colab": {
          "base_uri": "https://localhost:8080/"
        },
        "id": "d0bEPMKDf-_l",
        "outputId": "6fc26d18-2c69-4e89-a972-cd1d690ef9fd"
      },
      "execution_count": 6,
      "outputs": [
        {
          "output_type": "stream",
          "name": "stdout",
          "text": [
            "[ 0.  0.  0.  0.  0. 10.  0.  0.  0.  0.]\n"
          ]
        }
      ]
    },
    {
      "cell_type": "code",
      "source": [
        "#prueba 2: en el arreglo de unos, que la tercer posicion tenga un 7\n",
        "array_unos[3]=7\n",
        "print(array_unos)"
      ],
      "metadata": {
        "colab": {
          "base_uri": "https://localhost:8080/"
        },
        "id": "3TQn79_Yb508",
        "outputId": "002920de-0705-4238-e97a-58052451c9f4"
      },
      "execution_count": 8,
      "outputs": [
        {
          "output_type": "stream",
          "name": "stdout",
          "text": [
            "[1. 1. 1. 7. 1.]\n"
          ]
        }
      ]
    },
    {
      "cell_type": "code",
      "source": [
        "#Ejercicio 3: Crear un arreglo que tenga los números del 10 al 49\n",
        "array_10_49=np.arange(10,50)\n",
        "print(array_10_49)"
      ],
      "metadata": {
        "colab": {
          "base_uri": "https://localhost:8080/"
        },
        "id": "M3TJDCz1g-i7",
        "outputId": "1a1b07e3-5240-4d14-e522-9c99054bd33e"
      },
      "execution_count": 10,
      "outputs": [
        {
          "output_type": "stream",
          "name": "stdout",
          "text": [
            "[10 11 12 13 14 15 16 17 18 19 20 21 22 23 24 25 26 27 28 29 30 31 32 33\n",
            " 34 35 36 37 38 39 40 41 42 43 44 45 46 47 48 49]\n"
          ]
        }
      ]
    },
    {
      "cell_type": "code",
      "source": [
        "#pruba 3: crear arreglo del 11 al 38 (tengo que escribir hasta el 39 porque el ultimo no lo incluye)\n",
        "array_11_38=np.arange(11,39)\n",
        "print(array_11_38)"
      ],
      "metadata": {
        "colab": {
          "base_uri": "https://localhost:8080/"
        },
        "id": "Zol1fwGEcU3r",
        "outputId": "20993803-fd7a-4c24-e1fb-dd6eacefbf3a"
      },
      "execution_count": 12,
      "outputs": [
        {
          "output_type": "stream",
          "name": "stdout",
          "text": [
            "[11 12 13 14 15 16 17 18 19 20 21 22 23 24 25 26 27 28 29 30 31 32 33 34\n",
            " 35 36 37 38]\n"
          ]
        }
      ]
    },
    {
      "cell_type": "code",
      "source": [
        "#Ejercicio 4: Crear una arreglo 2d de shape (3, 3) que tenga los números del 0 al 8\n",
        "array_8_10=np.arange(9).reshape(3,3)\n",
        "print(array_8_10)"
      ],
      "metadata": {
        "colab": {
          "base_uri": "https://localhost:8080/"
        },
        "id": "IWBKX2tKguGs",
        "outputId": "cc9eb0e1-8379-49bd-9555-1e32c3402999"
      },
      "execution_count": 14,
      "outputs": [
        {
          "output_type": "stream",
          "name": "stdout",
          "text": [
            "[[0 1 2]\n",
            " [3 4 5]\n",
            " [6 7 8]]\n"
          ]
        }
      ]
    },
    {
      "cell_type": "code",
      "source": [
        "#prueba 4: arreglo 2d de shape 4,4 que tenga los numeros de 16 al 32 (como es arreglo de 4 x 4 tiene ue tener 16 numeros, toma el ultimo)\n",
        "array_16_32=np.arange(16,32).reshape(4,4)\n",
        "print(array_16_32)"
      ],
      "metadata": {
        "colab": {
          "base_uri": "https://localhost:8080/"
        },
        "id": "u8_3RDU7cxiK",
        "outputId": "a717dcb9-a00f-429b-9dd4-d4c427d4ee2e"
      },
      "execution_count": 15,
      "outputs": [
        {
          "output_type": "stream",
          "name": "stdout",
          "text": [
            "[[16 17 18 19]\n",
            " [20 21 22 23]\n",
            " [24 25 26 27]\n",
            " [28 29 30 31]]\n"
          ]
        }
      ]
    },
    {
      "cell_type": "code",
      "source": [
        "#Ejercicio 5: Crear un arreglo de números aleatorios de longitud 100 y obtener su media y varianza\n",
        "array_100=np.random.rand(100)\n",
        "print(array_100)"
      ],
      "metadata": {
        "colab": {
          "base_uri": "https://localhost:8080/"
        },
        "id": "N8mMKTPGf_Vu",
        "outputId": "95469b0d-825c-4ef0-89ef-c1e6c99d0a89"
      },
      "execution_count": 16,
      "outputs": [
        {
          "output_type": "stream",
          "name": "stdout",
          "text": [
            "[0.29573438 0.63350618 0.49919192 0.0629795  0.13097469 0.24028438\n",
            " 0.63526755 0.04403344 0.82149993 0.93221447 0.68432642 0.21688874\n",
            " 0.45126188 0.27662433 0.55243096 0.53453617 0.49619391 0.80689673\n",
            " 0.98944319 0.7455189  0.4902488  0.04958154 0.63841394 0.92637319\n",
            " 0.41019275 0.50362647 0.12818819 0.41691754 0.94181471 0.0690028\n",
            " 0.01896718 0.1148164  0.26788197 0.83539539 0.54589328 0.73935036\n",
            " 0.24517331 0.97590773 0.0795691  0.38409452 0.66837386 0.51723465\n",
            " 0.4951308  0.16902526 0.12117139 0.55412459 0.27474674 0.46691741\n",
            " 0.77510949 0.55488604 0.35775504 0.54240917 0.32200252 0.90348121\n",
            " 0.01267468 0.03846274 0.53171067 0.92307537 0.8683432  0.89704954\n",
            " 0.02377148 0.8737506  0.21779326 0.51380494 0.78147481 0.88450202\n",
            " 0.907959   0.74755416 0.92621584 0.72174586 0.50810216 0.08035964\n",
            " 0.81732452 0.03706371 0.39807747 0.27860341 0.25436923 0.7723583\n",
            " 0.55778337 0.66659443 0.20398609 0.49708006 0.61367569 0.5539296\n",
            " 0.55982385 0.21712969 0.18453282 0.0034445  0.74634251 0.19212664\n",
            " 0.17444053 0.84344409 0.20930247 0.39593575 0.43853929 0.02124375\n",
            " 0.05283183 0.26496022 0.17143565 0.74229817]\n"
          ]
        }
      ]
    },
    {
      "cell_type": "code",
      "source": [
        "array_media=np.mean(array_100)\n",
        "print(array_media)\n",
        "array_varianza=np.var(array_100)\n",
        "print(array_varianza)"
      ],
      "metadata": {
        "id": "Cly9U6BDez8E",
        "colab": {
          "base_uri": "https://localhost:8080/"
        },
        "outputId": "b5b37ef7-2065-4b1f-bc06-7ac3b5e1dfed"
      },
      "execution_count": 17,
      "outputs": [
        {
          "output_type": "stream",
          "name": "stdout",
          "text": [
            "0.46880612618763223\n",
            "0.08529241586797465\n"
          ]
        }
      ]
    },
    {
      "cell_type": "code",
      "source": [
        "#pruba 5: crear arreglo de 50 numeros aleatorios y calcular media y varianza\n",
        "array_50=np.random.rand(50)\n",
        "print(array_50)\n",
        "array_media50=np.mean(array_50)\n",
        "print(array_media50)\n",
        "array_varianza50=np.var(array_50)\n",
        "print(array_varianza50)"
      ],
      "metadata": {
        "colab": {
          "base_uri": "https://localhost:8080/"
        },
        "id": "4-2Y8YBldi95",
        "outputId": "c387b12e-5ab4-4b78-b016-8c83c7e735d2"
      },
      "execution_count": 19,
      "outputs": [
        {
          "output_type": "stream",
          "name": "stdout",
          "text": [
            "[0.91443413 0.17503227 0.809252   0.14420445 0.24876922 0.73668782\n",
            " 0.94698635 0.13209667 0.58752223 0.98632899 0.39839743 0.75530011\n",
            " 0.91034637 0.05463221 0.09682439 0.83472894 0.24732669 0.34772996\n",
            " 0.13744203 0.66689167 0.15661216 0.17343304 0.59176842 0.83414155\n",
            " 0.61485155 0.85690557 0.32386676 0.10905796 0.97940431 0.39528657\n",
            " 0.60467974 0.83593274 0.09112459 0.21219748 0.11959399 0.6822463\n",
            " 0.3463422  0.52036197 0.23434211 0.25651436 0.01004311 0.57354527\n",
            " 0.35988366 0.51006113 0.97754631 0.4703708  0.80077289 0.82721494\n",
            " 0.24043193 0.62084054]\n",
            "0.489206158080658\n",
            "0.09089023897380662\n"
          ]
        }
      ]
    },
    {
      "cell_type": "code",
      "source": [
        "#Ejercicio 6: Calcular la media de un arreglo usando np.sum\n",
        "array_100_sum=np.sum(array_100)/[len(array_100)]\n",
        "print(array_100_sum)"
      ],
      "metadata": {
        "colab": {
          "base_uri": "https://localhost:8080/"
        },
        "id": "wjIj6NHvitDW",
        "outputId": "6ec5ac76-de41-4fce-e2ea-756a4742e52b"
      },
      "execution_count": 21,
      "outputs": [
        {
          "output_type": "stream",
          "name": "stdout",
          "text": [
            "[0.46880613]\n"
          ]
        }
      ]
    },
    {
      "cell_type": "code",
      "source": [
        "#prueba6: la media es la suma de x0 a xn dividido n\n",
        "array_50_sum=np.sum(array_50)/[len(array_50)]\n",
        "print(array_50_sum)"
      ],
      "metadata": {
        "colab": {
          "base_uri": "https://localhost:8080/"
        },
        "id": "8HMhJ-9wet6H",
        "outputId": "76060a24-3413-497d-f8b8-f096a40642d3"
      },
      "execution_count": 22,
      "outputs": [
        {
          "output_type": "stream",
          "name": "stdout",
          "text": [
            "[0.48920616]\n"
          ]
        }
      ]
    },
    {
      "cell_type": "code",
      "source": [
        "#ejercicio 7"
      ],
      "metadata": {
        "id": "rprrFZZElZ7e"
      },
      "execution_count": 23,
      "outputs": []
    },
    {
      "cell_type": "code",
      "source": [
        "array_100_varianza=np.sum((array_100-np.mean(array_100))**2)/[len(array_100)]\n",
        "print(array_100_varianza)"
      ],
      "metadata": {
        "colab": {
          "base_uri": "https://localhost:8080/"
        },
        "id": "7Zdj3AxHlvu7",
        "outputId": "55679722-d93b-4694-de41-23aaa084d86b"
      },
      "execution_count": 24,
      "outputs": [
        {
          "output_type": "stream",
          "name": "stdout",
          "text": [
            "[0.08529242]\n"
          ]
        }
      ]
    },
    {
      "cell_type": "code",
      "source": [
        "#prueba7: la varianza es la sumatoria de (Xi-xmedia)² / (n-1)\n",
        "array_50_varianza=np.sum((array_50-np.mean(array_50))**2)/len(array_50)\n",
        "print(array_50_varianza)"
      ],
      "metadata": {
        "colab": {
          "base_uri": "https://localhost:8080/"
        },
        "id": "CUNzrDWyfa4l",
        "outputId": "e78a975b-102f-442b-d13b-43caba61db3f"
      },
      "execution_count": 25,
      "outputs": [
        {
          "output_type": "stream",
          "name": "stdout",
          "text": [
            "0.09089023897380662\n"
          ]
        }
      ]
    },
    {
      "cell_type": "code",
      "source": [
        "#Ejercicio8\n",
        "#Crear un array de números aleatorios usando np.random.randn."
      ],
      "metadata": {
        "id": "KfQNeLQJl6J5"
      },
      "execution_count": 26,
      "outputs": []
    },
    {
      "cell_type": "code",
      "source": [
        "#Crear un array de números aleatorios usando np.random.randn.\n",
        "array_aletorio=np.random.rand(5)\n",
        "print(array_aletorio)"
      ],
      "metadata": {
        "colab": {
          "base_uri": "https://localhost:8080/"
        },
        "id": "ojJh0uwgl97i",
        "outputId": "4cc24938-d39b-436e-fc44-5f478afe160b"
      },
      "execution_count": 27,
      "outputs": [
        {
          "output_type": "stream",
          "name": "stdout",
          "text": [
            "[0.06820107 0.80269364 0.46439282 0.43309887 0.52649206]\n"
          ]
        }
      ]
    },
    {
      "cell_type": "code",
      "source": [
        "array_aleatorio_8=np.random.rand(8)\n",
        "print(array_aleatorio_8)"
      ],
      "metadata": {
        "colab": {
          "base_uri": "https://localhost:8080/"
        },
        "id": "5zZcaOO8giuu",
        "outputId": "6ddeb08b-51ac-4fa0-f5ac-793308b20d70"
      },
      "execution_count": 29,
      "outputs": [
        {
          "output_type": "stream",
          "name": "stdout",
          "text": [
            "[0.99425719 0.23530587 0.31864975 0.30111426 0.77809041 0.307768\n",
            " 0.91894648 0.70535525]\n"
          ]
        }
      ]
    }
  ]
}